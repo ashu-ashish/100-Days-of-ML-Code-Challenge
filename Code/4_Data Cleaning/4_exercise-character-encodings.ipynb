{
 "cells": [
  {
   "cell_type": "markdown",
   "metadata": {
    "papermill": {
     "duration": 0.01138,
     "end_time": "2020-11-13T08:55:46.993088",
     "exception": false,
     "start_time": "2020-11-13T08:55:46.981708",
     "status": "completed"
    },
    "tags": []
   },
   "source": [
    "**This notebook is an exercise in the [Data Cleaning](https://www.kaggle.com/learn/data-cleaning) course.  You can reference the tutorial at [this link](https://www.kaggle.com/alexisbcook/character-encodings).**\n",
    "\n",
    "---\n"
   ]
  },
  {
   "cell_type": "markdown",
   "metadata": {
    "papermill": {
     "duration": 0.009953,
     "end_time": "2020-11-13T08:55:47.013645",
     "exception": false,
     "start_time": "2020-11-13T08:55:47.003692",
     "status": "completed"
    },
    "tags": []
   },
   "source": [
    "In this exercise, you'll apply what you learned in the **Character encodings** tutorial.\n",
    "\n",
    "# Setup\n",
    "\n",
    "The questions below will give you feedback on your work. Run the following cell to set up the feedback system."
   ]
  },
  {
   "cell_type": "code",
   "execution_count": 1,
   "metadata": {
    "execution": {
     "iopub.execute_input": "2020-11-13T08:55:47.040390Z",
     "iopub.status.busy": "2020-11-13T08:55:47.039586Z",
     "iopub.status.idle": "2020-11-13T08:55:47.114728Z",
     "shell.execute_reply": "2020-11-13T08:55:47.114157Z"
    },
    "papermill": {
     "duration": 0.091265,
     "end_time": "2020-11-13T08:55:47.114844",
     "exception": false,
     "start_time": "2020-11-13T08:55:47.023579",
     "status": "completed"
    },
    "tags": []
   },
   "outputs": [
    {
     "name": "stdout",
     "output_type": "stream",
     "text": [
      "Setup Complete\n"
     ]
    }
   ],
   "source": [
    "from learntools.core import binder\n",
    "binder.bind(globals())\n",
    "from learntools.data_cleaning.ex4 import *\n",
    "print(\"Setup Complete\")"
   ]
  },
  {
   "cell_type": "markdown",
   "metadata": {
    "papermill": {
     "duration": 0.011237,
     "end_time": "2020-11-13T08:55:47.137015",
     "exception": false,
     "start_time": "2020-11-13T08:55:47.125778",
     "status": "completed"
    },
    "tags": []
   },
   "source": [
    "# Get our environment set up\n",
    "\n",
    "The first thing we'll need to do is load in the libraries we'll be using."
   ]
  },
  {
   "cell_type": "code",
   "execution_count": 2,
   "metadata": {
    "execution": {
     "iopub.execute_input": "2020-11-13T08:55:47.165801Z",
     "iopub.status.busy": "2020-11-13T08:55:47.164597Z",
     "iopub.status.idle": "2020-11-13T08:55:47.167878Z",
     "shell.execute_reply": "2020-11-13T08:55:47.167370Z"
    },
    "papermill": {
     "duration": 0.020268,
     "end_time": "2020-11-13T08:55:47.167995",
     "exception": false,
     "start_time": "2020-11-13T08:55:47.147727",
     "status": "completed"
    },
    "tags": []
   },
   "outputs": [],
   "source": [
    "# modules we'll use\n",
    "import pandas as pd\n",
    "import numpy as np\n",
    "\n",
    "# helpful character encoding module\n",
    "import chardet\n",
    "\n",
    "# set seed for reproducibility\n",
    "np.random.seed(0)"
   ]
  },
  {
   "cell_type": "markdown",
   "metadata": {
    "papermill": {
     "duration": 0.010213,
     "end_time": "2020-11-13T08:55:47.190566",
     "exception": false,
     "start_time": "2020-11-13T08:55:47.180353",
     "status": "completed"
    },
    "tags": []
   },
   "source": [
    "# 1) What are encodings?\n",
    "\n",
    "You're working with a dataset composed of bytes.  Run the code cell below to print a sample entry."
   ]
  },
  {
   "cell_type": "code",
   "execution_count": 3,
   "metadata": {
    "execution": {
     "iopub.execute_input": "2020-11-13T08:55:47.217496Z",
     "iopub.status.busy": "2020-11-13T08:55:47.216588Z",
     "iopub.status.idle": "2020-11-13T08:55:47.220284Z",
     "shell.execute_reply": "2020-11-13T08:55:47.219797Z"
    },
    "papermill": {
     "duration": 0.019286,
     "end_time": "2020-11-13T08:55:47.220397",
     "exception": false,
     "start_time": "2020-11-13T08:55:47.201111",
     "status": "completed"
    },
    "tags": []
   },
   "outputs": [
    {
     "name": "stdout",
     "output_type": "stream",
     "text": [
      "b'\\xa7A\\xa6n'\n",
      "data type: <class 'bytes'>\n"
     ]
    }
   ],
   "source": [
    "sample_entry = b'\\xa7A\\xa6n'\n",
    "print(sample_entry)\n",
    "print('data type:', type(sample_entry))"
   ]
  },
  {
   "cell_type": "markdown",
   "metadata": {
    "papermill": {
     "duration": 0.010439,
     "end_time": "2020-11-13T08:55:47.241684",
     "exception": false,
     "start_time": "2020-11-13T08:55:47.231245",
     "status": "completed"
    },
    "tags": []
   },
   "source": [
    "You notice that it doesn't use the standard UTF-8 encoding. \n",
    "\n",
    "Use the next code cell to create a variable `new_entry` that changes the encoding from `\"big5-tw\"` to `\"utf-8\"`.  `new_entry` should have the bytes datatype."
   ]
  },
  {
   "cell_type": "code",
   "execution_count": 4,
   "metadata": {
    "execution": {
     "iopub.execute_input": "2020-11-13T08:55:47.272489Z",
     "iopub.status.busy": "2020-11-13T08:55:47.271685Z",
     "iopub.status.idle": "2020-11-13T08:55:47.277798Z",
     "shell.execute_reply": "2020-11-13T08:55:47.278307Z"
    },
    "papermill": {
     "duration": 0.02543,
     "end_time": "2020-11-13T08:55:47.278449",
     "exception": false,
     "start_time": "2020-11-13T08:55:47.253019",
     "status": "completed"
    },
    "tags": []
   },
   "outputs": [
    {
     "name": "stdout",
     "output_type": "stream",
     "text": [
      "<class 'str'>\n",
      "b'\\xe4\\xbd\\xa0\\xe5\\xa5\\xbd'\n"
     ]
    },
    {
     "data": {
      "application/javascript": [
       "parent.postMessage({\"jupyterEvent\": \"custom.exercise_interaction\", \"data\": {\"outcomeType\": 1, \"valueTowardsCompletion\": 0.3333333333333333, \"interactionType\": 1, \"questionType\": 1, \"questionId\": \"1_EncodingsIntro\", \"learnToolsVersion\": \"0.3.4\", \"failureMessage\": \"\", \"exceptionClass\": \"\", \"trace\": \"\"}}, \"*\")"
      ],
      "text/plain": [
       "<IPython.core.display.Javascript object>"
      ]
     },
     "metadata": {},
     "output_type": "display_data"
    },
    {
     "data": {
      "text/markdown": [
       "<span style=\"color:#33cc33\">Correct</span>"
      ],
      "text/plain": [
       "Correct"
      ]
     },
     "metadata": {},
     "output_type": "display_data"
    }
   ],
   "source": [
    "before = sample_entry.decode('big5-tw')\n",
    "print(type(before))\n",
    "new_entry = before.encode('utf-8')\n",
    "print(new_entry)\n",
    "\n",
    "# Check your answer\n",
    "q1.check()"
   ]
  },
  {
   "cell_type": "code",
   "execution_count": 5,
   "metadata": {
    "execution": {
     "iopub.execute_input": "2020-11-13T08:55:47.307695Z",
     "iopub.status.busy": "2020-11-13T08:55:47.306856Z",
     "iopub.status.idle": "2020-11-13T08:55:47.309953Z",
     "shell.execute_reply": "2020-11-13T08:55:47.309338Z"
    },
    "papermill": {
     "duration": 0.019267,
     "end_time": "2020-11-13T08:55:47.310088",
     "exception": false,
     "start_time": "2020-11-13T08:55:47.290821",
     "status": "completed"
    },
    "tags": []
   },
   "outputs": [],
   "source": [
    "# Lines below will give you a hint or solution code\n",
    "#q1.hint()\n",
    "# q1.solution()"
   ]
  },
  {
   "cell_type": "markdown",
   "metadata": {
    "papermill": {
     "duration": 0.011993,
     "end_time": "2020-11-13T08:55:47.334961",
     "exception": false,
     "start_time": "2020-11-13T08:55:47.322968",
     "status": "completed"
    },
    "tags": []
   },
   "source": [
    "# 2) Reading in files with encoding problems\n",
    "\n",
    "Use the code cell below to read in this file at path `\"../input/fatal-police-shootings-in-the-us/PoliceKillingsUS.csv\"`.  \n",
    "\n",
    "Figure out what the correct encoding should be and read in the file to a DataFrame `police_killings`."
   ]
  },
  {
   "cell_type": "code",
   "execution_count": 6,
   "metadata": {
    "execution": {
     "iopub.execute_input": "2020-11-13T08:55:47.366658Z",
     "iopub.status.busy": "2020-11-13T08:55:47.365746Z",
     "iopub.status.idle": "2020-11-13T08:55:48.694921Z",
     "shell.execute_reply": "2020-11-13T08:55:48.694314Z"
    },
    "papermill": {
     "duration": 1.346793,
     "end_time": "2020-11-13T08:55:48.695042",
     "exception": false,
     "start_time": "2020-11-13T08:55:47.348249",
     "status": "completed"
    },
    "tags": []
   },
   "outputs": [
    {
     "name": "stdout",
     "output_type": "stream",
     "text": [
      "{'encoding': 'Windows-1252', 'confidence': 0.73, 'language': ''}\n"
     ]
    },
    {
     "data": {
      "application/javascript": [
       "parent.postMessage({\"jupyterEvent\": \"custom.exercise_interaction\", \"data\": {\"outcomeType\": 1, \"valueTowardsCompletion\": 0.3333333333333333, \"interactionType\": 1, \"questionType\": 1, \"questionId\": \"2_ReadIn\", \"learnToolsVersion\": \"0.3.4\", \"failureMessage\": \"\", \"exceptionClass\": \"\", \"trace\": \"\"}}, \"*\")"
      ],
      "text/plain": [
       "<IPython.core.display.Javascript object>"
      ]
     },
     "metadata": {},
     "output_type": "display_data"
    },
    {
     "data": {
      "text/markdown": [
       "<span style=\"color:#33cc33\">Correct</span>"
      ],
      "text/plain": [
       "Correct"
      ]
     },
     "metadata": {},
     "output_type": "display_data"
    }
   ],
   "source": [
    "# TODO: Load in the DataFrame correctly.\n",
    "\n",
    "with open(\"../input/fatal-police-shootings-in-the-us/PoliceKillingsUS.csv\",'rb') as rawdata:\n",
    "    result = chardet.detect(rawdata.read(100000))\n",
    "print(result)\n",
    "\n",
    "# police_killings = police_killings.decode('ascii')\n",
    "police_killings = pd.read_csv(\"../input/fatal-police-shootings-in-the-us/PoliceKillingsUS.csv\",encoding='windows-1252')\n",
    "\n",
    "# Check your answer\n",
    "q2.check()"
   ]
  },
  {
   "cell_type": "markdown",
   "metadata": {
    "papermill": {
     "duration": 0.013263,
     "end_time": "2020-11-13T08:55:48.722634",
     "exception": false,
     "start_time": "2020-11-13T08:55:48.709371",
     "status": "completed"
    },
    "tags": []
   },
   "source": [
    "Feel free to use any additional code cells for supplemental work.  To get credit for finishing this question, you'll need to run `q2.check()` and get a result of **Correct**."
   ]
  },
  {
   "cell_type": "code",
   "execution_count": 7,
   "metadata": {
    "execution": {
     "iopub.execute_input": "2020-11-13T08:55:48.754747Z",
     "iopub.status.busy": "2020-11-13T08:55:48.754050Z",
     "iopub.status.idle": "2020-11-13T08:55:48.757278Z",
     "shell.execute_reply": "2020-11-13T08:55:48.756637Z"
    },
    "papermill": {
     "duration": 0.0213,
     "end_time": "2020-11-13T08:55:48.757394",
     "exception": false,
     "start_time": "2020-11-13T08:55:48.736094",
     "status": "completed"
    },
    "tags": []
   },
   "outputs": [],
   "source": [
    "# (Optional) Use this code cell for any additional work."
   ]
  },
  {
   "cell_type": "code",
   "execution_count": 8,
   "metadata": {
    "execution": {
     "iopub.execute_input": "2020-11-13T08:55:48.791044Z",
     "iopub.status.busy": "2020-11-13T08:55:48.790220Z",
     "iopub.status.idle": "2020-11-13T08:55:48.793055Z",
     "shell.execute_reply": "2020-11-13T08:55:48.792578Z"
    },
    "papermill": {
     "duration": 0.021535,
     "end_time": "2020-11-13T08:55:48.793191",
     "exception": false,
     "start_time": "2020-11-13T08:55:48.771656",
     "status": "completed"
    },
    "tags": []
   },
   "outputs": [],
   "source": [
    "# Lines below will give you a hint or solution code\n",
    "#q2.hint()\n",
    "# q2.solution()"
   ]
  },
  {
   "cell_type": "markdown",
   "metadata": {
    "papermill": {
     "duration": 0.013495,
     "end_time": "2020-11-13T08:55:48.820573",
     "exception": false,
     "start_time": "2020-11-13T08:55:48.807078",
     "status": "completed"
    },
    "tags": []
   },
   "source": [
    "# 3) Saving your files with UTF-8 encoding\n",
    "\n",
    "Save a version of the police killings dataset to CSV with UTF-8 encoding.  Your answer will be marked correct after saving this file.  \n",
    "\n",
    "Note: When using the `to_csv()` method, supply only the name of the file (e.g., `\"my_file.csv\"`).  This saves the file at the filepath `\"/kaggle/working/my_file.csv\"`."
   ]
  },
  {
   "cell_type": "code",
   "execution_count": 9,
   "metadata": {
    "execution": {
     "iopub.execute_input": "2020-11-13T08:55:48.854850Z",
     "iopub.status.busy": "2020-11-13T08:55:48.853895Z",
     "iopub.status.idle": "2020-11-13T08:55:49.217535Z",
     "shell.execute_reply": "2020-11-13T08:55:49.216947Z"
    },
    "papermill": {
     "duration": 0.38303,
     "end_time": "2020-11-13T08:55:49.217687",
     "exception": false,
     "start_time": "2020-11-13T08:55:48.834657",
     "status": "completed"
    },
    "tags": []
   },
   "outputs": [
    {
     "data": {
      "application/javascript": [
       "parent.postMessage({\"jupyterEvent\": \"custom.exercise_interaction\", \"data\": {\"outcomeType\": 1, \"valueTowardsCompletion\": 0.3333333333333333, \"interactionType\": 1, \"questionType\": 2, \"questionId\": \"3_SaveCSV\", \"learnToolsVersion\": \"0.3.4\", \"failureMessage\": \"\", \"exceptionClass\": \"\", \"trace\": \"\"}}, \"*\")"
      ],
      "text/plain": [
       "<IPython.core.display.Javascript object>"
      ]
     },
     "metadata": {},
     "output_type": "display_data"
    },
    {
     "data": {
      "text/markdown": [
       "<span style=\"color:#33cc33\">Correct</span>"
      ],
      "text/plain": [
       "Correct"
      ]
     },
     "metadata": {},
     "output_type": "display_data"
    }
   ],
   "source": [
    "# TODO: Save the police killings dataset to CSV\n",
    "police_killings.to_csv('my_file.csv')\n",
    "\n",
    "# Check your answer\n",
    "q3.check()"
   ]
  },
  {
   "cell_type": "code",
   "execution_count": 10,
   "metadata": {
    "execution": {
     "iopub.execute_input": "2020-11-13T08:55:49.252364Z",
     "iopub.status.busy": "2020-11-13T08:55:49.251680Z",
     "iopub.status.idle": "2020-11-13T08:55:49.254757Z",
     "shell.execute_reply": "2020-11-13T08:55:49.254255Z"
    },
    "papermill": {
     "duration": 0.021473,
     "end_time": "2020-11-13T08:55:49.254873",
     "exception": false,
     "start_time": "2020-11-13T08:55:49.233400",
     "status": "completed"
    },
    "tags": []
   },
   "outputs": [],
   "source": [
    "# Lines below will give you a hint or solution code\n",
    "#q3.hint()\n",
    "#q3.solution()"
   ]
  },
  {
   "cell_type": "markdown",
   "metadata": {
    "papermill": {
     "duration": 0.014321,
     "end_time": "2020-11-13T08:55:49.284118",
     "exception": false,
     "start_time": "2020-11-13T08:55:49.269797",
     "status": "completed"
    },
    "tags": []
   },
   "source": [
    "# (Optional) More practice\n",
    "\n",
    "Check out [this dataset of files in different character encodings](https://www.kaggle.com/rtatman/character-encoding-examples). Can you read in all the files with their original encodings and them save them out as UTF-8 files?\n",
    "\n",
    "If you have a file that's in UTF-8 but has just a couple of weird-looking characters in it, you can try out the [ftfy module](https://ftfy.readthedocs.io/en/latest/#) and see if it helps. \n",
    "\n",
    "# Keep going\n",
    "\n",
    "In the final lesson, learn how to [**clean up inconsistent text entries**](https://www.kaggle.com/alexisbcook/inconsistent-data-entry) in your dataset."
   ]
  },
  {
   "cell_type": "markdown",
   "metadata": {
    "papermill": {
     "duration": 0.014352,
     "end_time": "2020-11-13T08:55:49.313161",
     "exception": false,
     "start_time": "2020-11-13T08:55:49.298809",
     "status": "completed"
    },
    "tags": []
   },
   "source": [
    "---\n",
    "\n",
    "\n",
    "\n",
    "\n",
    "*Have questions or comments? Visit the [Learn Discussion forum](https://www.kaggle.com/learn-forum/172650) to chat with other Learners.*"
   ]
  }
 ],
 "metadata": {
  "kernelspec": {
   "display_name": "Python 3",
   "language": "python",
   "name": "python3"
  },
  "language_info": {
   "codemirror_mode": {
    "name": "ipython",
    "version": 3
   },
   "file_extension": ".py",
   "mimetype": "text/x-python",
   "name": "python",
   "nbconvert_exporter": "python",
   "pygments_lexer": "ipython3",
   "version": "3.7.6"
  },
  "papermill": {
   "duration": 6.727116,
   "end_time": "2020-11-13T08:55:49.435231",
   "environment_variables": {},
   "exception": null,
   "input_path": "__notebook__.ipynb",
   "output_path": "__notebook__.ipynb",
   "parameters": {},
   "start_time": "2020-11-13T08:55:42.708115",
   "version": "2.1.0"
  }
 },
 "nbformat": 4,
 "nbformat_minor": 4
}
